{
 "cells": [
  {
   "cell_type": "markdown",
   "metadata": {},
   "source": [
    "*Accompanying code examples of the book \"Introduction to Artificial Neural Networks and Deep Learning: A Practical Guide with Applications in Python\" by [Sebastian Raschka](https://sebastianraschka.com). All code examples are released under the [MIT license](https://github.com/rasbt/deep-learning-book/blob/master/LICENSE). If you find this content useful, please consider supporting the work by buying a [copy of the book](https://leanpub.com/ann-and-deeplearning).*\n",
    "\n",
    "Other code examples and content are available on [GitHub](https://github.com/rasbt/deep-learning-book). The PDF and ebook versions of the book are available through [Leanpub](https://leanpub.com/ann-and-deeplearning)."
   ]
  },
  {
   "cell_type": "markdown",
   "metadata": {},
   "source": [
    "# Appendix G - TensorFlow Basics"
   ]
  },
  {
   "cell_type": "markdown",
   "metadata": {},
   "source": [
    "* [TensorFlow in a Nutshell](#TensorFlow-in-a-Nutshell)\n",
    "* [Installation](#Installation)\n",
    "* [Computation Graphs](#Computation-Graphs)\n",
    "* [Variables](#Variables)\n",
    "* [Placeholder Variables](#Placeholder-Variables)\n",
    "\n",
    "* [CPU and GPU](#CPU-and-GPU)"
   ]
  },
  {
   "cell_type": "code",
   "execution_count": 1,
   "metadata": {
    "collapsed": false
   },
   "outputs": [
    {
     "name": "stdout",
     "output_type": "stream",
     "text": [
      "Sebastian Raschka 2017-03-27 \n",
      "\n",
      "tensorflow 1.0.1\n",
      "numpy 1.12.1\n"
     ]
    }
   ],
   "source": [
    "%load_ext watermark\n",
    "%watermark -a 'Sebastian Raschka' -d -p tensorflow,numpy"
   ]
  },
  {
   "cell_type": "markdown",
   "metadata": {},
   "source": [
    "## TensorFlow in a Nutshell"
   ]
  },
  {
   "cell_type": "markdown",
   "metadata": {},
   "source": [
    "## Installation"
   ]
  },
  {
   "cell_type": "markdown",
   "metadata": {},
   "source": [
    "## Computation Graphs"
   ]
  },
  {
   "cell_type": "code",
   "execution_count": 2,
   "metadata": {
    "collapsed": false
   },
   "outputs": [
    {
     "name": "stdout",
     "output_type": "stream",
     "text": [
      "tf_x:\n",
      " Tensor(\"Const:0\", shape=(3, 2), dtype=float32)\n",
      "\n",
      "col_sum:\n",
      " Tensor(\"Sum:0\", shape=(2,), dtype=float32)\n"
     ]
    }
   ],
   "source": [
    "import tensorflow as tf\n",
    "\n",
    "g = tf.Graph()\n",
    "\n",
    "with g.as_default() as g:\n",
    "    tf_x = tf.constant([[1., 2.], \n",
    "                        [3., 4.],\n",
    "                        [5., 6.]], dtype=tf.float32)\n",
    "    col_sum = tf.reduce_sum(tf_x, axis=0)\n",
    "\n",
    "print('tf_x:\\n', tf_x)\n",
    "print('\\ncol_sum:\\n', col_sum)"
   ]
  },
  {
   "cell_type": "code",
   "execution_count": 3,
   "metadata": {
    "collapsed": false
   },
   "outputs": [
    {
     "name": "stdout",
     "output_type": "stream",
     "text": [
      "mat:\n",
      " [[ 1.  2.]\n",
      " [ 3.  4.]\n",
      " [ 5.  6.]]\n",
      "\n",
      "csum:\n",
      " [  9.  12.]\n"
     ]
    }
   ],
   "source": [
    "with tf.Session(graph=g) as sess:\n",
    "    mat, csum = sess.run([tf_x, col_sum])\n",
    "    \n",
    "print('mat:\\n', mat)\n",
    "print('\\ncsum:\\n', csum)"
   ]
  },
  {
   "cell_type": "code",
   "execution_count": 4,
   "metadata": {
    "collapsed": false
   },
   "outputs": [
    {
     "name": "stdout",
     "output_type": "stream",
     "text": [
      "csum_2:\n",
      " [ 18.  24.]\n"
     ]
    }
   ],
   "source": [
    "g = tf.Graph()\n",
    "\n",
    "with g.as_default() as g:\n",
    "    tf_x = tf.constant([[1., 2.], \n",
    "                        [3., 4.],\n",
    "                        [5., 6.]], dtype=tf.float32)\n",
    "    col_sum = tf.reduce_sum(tf_x, axis=0)\n",
    "    col_sum_times_2 = col_sum * 2\n",
    "\n",
    "\n",
    "with tf.Session(graph=g) as sess:\n",
    "    csum_2 = sess.run(col_sum_times_2)\n",
    "    \n",
    "print('csum_2:\\n', csum_2)"
   ]
  },
  {
   "cell_type": "markdown",
   "metadata": {},
   "source": [
    "## Variables"
   ]
  },
  {
   "cell_type": "code",
   "execution_count": 5,
   "metadata": {
    "collapsed": false
   },
   "outputs": [
    {
     "name": "stdout",
     "output_type": "stream",
     "text": [
      "[[ 2.  3.]\n",
      " [ 4.  5.]\n",
      " [ 6.  7.]]\n"
     ]
    }
   ],
   "source": [
    "g = tf.Graph()\n",
    "\n",
    "with g.as_default() as g:\n",
    "    tf_x = tf.Variable([[1., 2.], \n",
    "                        [3., 4.],\n",
    "                        [5., 6.]], dtype=tf.float32)\n",
    "    x = tf.constant(1., dtype=tf.float32)\n",
    "    \n",
    "    # add a constant to the matrix:\n",
    "    tf_x = tf_x + x\n",
    "    \n",
    "with tf.Session(graph=g) as sess:\n",
    "    sess.run(tf.global_variables_initializer())\n",
    "    result = sess.run(tf_x)\n",
    "    \n",
    "print(result)"
   ]
  },
  {
   "cell_type": "code",
   "execution_count": 6,
   "metadata": {
    "collapsed": false
   },
   "outputs": [
    {
     "name": "stdout",
     "output_type": "stream",
     "text": [
      "[[ 2.  3.]\n",
      " [ 4.  5.]\n",
      " [ 6.  7.]]\n"
     ]
    }
   ],
   "source": [
    "with tf.Session(graph=g) as sess:\n",
    "    sess.run(tf.global_variables_initializer())\n",
    "    result = sess.run(tf_x)\n",
    "    result = sess.run(tf_x)\n",
    "\n",
    "print(result)"
   ]
  },
  {
   "cell_type": "code",
   "execution_count": 7,
   "metadata": {
    "collapsed": false
   },
   "outputs": [
    {
     "name": "stdout",
     "output_type": "stream",
     "text": [
      "[[ 3.  4.]\n",
      " [ 5.  6.]\n",
      " [ 7.  8.]]\n"
     ]
    }
   ],
   "source": [
    "g = tf.Graph()\n",
    "\n",
    "with g.as_default() as g:\n",
    "    tf_x = tf.Variable([[1., 2.], \n",
    "                        [3., 4.],\n",
    "                        [5., 6.]], dtype=tf.float32)\n",
    "    x = tf.constant(1., dtype=tf.float32)\n",
    "    \n",
    "    update_tf_x = tf.assign(tf_x, tf_x + x)\n",
    "\n",
    "\n",
    "with tf.Session(graph=g) as sess:\n",
    "    sess.run(tf.global_variables_initializer())\n",
    "    result = sess.run(update_tf_x)\n",
    "    result = sess.run(update_tf_x)\n",
    "\n",
    "print(result)"
   ]
  },
  {
   "cell_type": "markdown",
   "metadata": {},
   "source": [
    "## Placeholder Variables"
   ]
  },
  {
   "cell_type": "code",
   "execution_count": 8,
   "metadata": {
    "collapsed": false
   },
   "outputs": [
    {
     "name": "stdout",
     "output_type": "stream",
     "text": [
      "[[  25.   39.   53.]\n",
      " [  39.   61.   83.]\n",
      " [  53.   83.  113.]]\n"
     ]
    }
   ],
   "source": [
    "import numpy as np\n",
    "\n",
    "g = tf.Graph()\n",
    "\n",
    "with g.as_default() as g:\n",
    "    tf_x = tf.placeholder(dtype=tf.float32,\n",
    "                          shape=(3, 2))\n",
    "\n",
    "    output = tf.matmul(tf_x, tf.transpose(tf_x))\n",
    "\n",
    "\n",
    "with tf.Session(graph=g) as sess:\n",
    "    sess.run(tf.global_variables_initializer())\n",
    "    np_ary = np.array([[3., 4.],\n",
    "                          [5., 6.],\n",
    "                          [7., 8.]])\n",
    "    feed_dict = {tf_x: np_ary}\n",
    "    print(sess.run(output,\n",
    "                   feed_dict=feed_dict))"
   ]
  },
  {
   "cell_type": "markdown",
   "metadata": {},
   "source": [
    "## Saving and Loading Variables"
   ]
  },
  {
   "cell_type": "code",
   "execution_count": 9,
   "metadata": {
    "collapsed": false
   },
   "outputs": [],
   "source": [
    "g = tf.Graph()\n",
    "\n",
    "with g.as_default() as g:\n",
    "    \n",
    "    tf_x = tf.Variable([[1., 2.], \n",
    "                        [3., 4.],\n",
    "                        [5., 6.]], dtype=tf.float32)\n",
    "    x = tf.constant(1., dtype=tf.float32)\n",
    "    \n",
    "    update_tf_x = tf.assign(tf_x, tf_x + x)\n",
    "    \n",
    "    # initialize a Saver, which gets all variables\n",
    "    # within this computation graph context\n",
    "    saver = tf.train.Saver()\n",
    "\n",
    "with tf.Session(graph=g) as sess:\n",
    "    sess.run(tf.global_variables_initializer())\n",
    "    result = sess.run(update_tf_x)\n",
    "    \n",
    "    saver.save(sess, save_path='./my-model.ckpt')"
   ]
  },
  {
   "cell_type": "code",
   "execution_count": 10,
   "metadata": {
    "collapsed": true
   },
   "outputs": [],
   "source": [
    "g = tf.Graph()\n",
    "\n",
    "with g.as_default() as g:\n",
    "    \n",
    "    tf_x = tf.Variable([[1., 2.], \n",
    "                        [3., 4.],\n",
    "                        [5., 6.]], dtype=tf.float32)\n",
    "    x = tf.constant(1., dtype=tf.float32)\n",
    "    \n",
    "    update_tf_x = tf.assign(tf_x, tf_x + x)\n",
    "    \n",
    "    # initialize a Saver, which gets all variables\n",
    "    # within this computation graph context\n",
    "    saver = tf.train.Saver()\n",
    "\n",
    "with tf.Session(graph=g) as sess:\n",
    "    sess.run(tf.global_variables_initializer())\n",
    "    \n",
    "    for epoch in range(100):\n",
    "        result = sess.run(update_tf_x)\n",
    "        if not epoch % 10:\n",
    "            saver.save(sess, \n",
    "                       save_path='./my-model-multiple_ckpts.ckpt', \n",
    "                       global_step=epoch)\n",
    "    "
   ]
  },
  {
   "cell_type": "code",
   "execution_count": 11,
   "metadata": {
    "collapsed": false
   },
   "outputs": [
    {
     "name": "stdout",
     "output_type": "stream",
     "text": [
      "[[ 3.  4.]\n",
      " [ 5.  6.]\n",
      " [ 7.  8.]]\n"
     ]
    }
   ],
   "source": [
    "g = tf.Graph()\n",
    "\n",
    "with g.as_default() as g:\n",
    "    \n",
    "    tf_x = tf.Variable([[1., 2.], \n",
    "                        [3., 4.],\n",
    "                        [5., 6.]], dtype=tf.float32)\n",
    "    x = tf.constant(1., dtype=tf.float32)\n",
    "    \n",
    "    update_tf_x = tf.assign(tf_x, tf_x + x)\n",
    "    \n",
    "    # initialize a Saver, which gets all variables\n",
    "    # within this computation graph context\n",
    "    saver = tf.train.Saver()\n",
    "\n",
    "with tf.Session(graph=g) as sess:\n",
    "    saver.restore(sess, save_path='./my-model.ckpt')\n",
    "    result = sess.run(update_tf_x)\n",
    "    print(result)"
   ]
  },
  {
   "cell_type": "code",
   "execution_count": 12,
   "metadata": {
    "collapsed": false
   },
   "outputs": [
    {
     "name": "stdout",
     "output_type": "stream",
     "text": [
      "[[ 93.  94.]\n",
      " [ 95.  96.]\n",
      " [ 97.  98.]]\n"
     ]
    }
   ],
   "source": [
    "with tf.Session(graph=g) as sess:\n",
    "    saver.restore(sess, save_path='./my-model-multiple_ckpts.ckpt-90')\n",
    "    result = sess.run(update_tf_x)\n",
    "    print(result)"
   ]
  },
  {
   "cell_type": "markdown",
   "metadata": {},
   "source": [
    "- You'll notice you still need to create the weights and bias Tensors in Python. The tf.train.Saver.restore() function loads the saved data into weights and bias.\n",
    "\n",
    "- Since tf.train.Saver.restore() sets all the TensorFlow Variables, you don't need to call tf.global_variables_initializer()."
   ]
  },
  {
   "cell_type": "markdown",
   "metadata": {},
   "source": [
    "## Naming TensorFlow Objects"
   ]
  },
  {
   "cell_type": "code",
   "execution_count": 13,
   "metadata": {
    "collapsed": false
   },
   "outputs": [],
   "source": [
    "g = tf.Graph()\n",
    "\n",
    "with g.as_default() as g:\n",
    "    \n",
    "    tf_x = tf.Variable([[1., 2.], \n",
    "                        [3., 4.],\n",
    "                        [5., 6.]], dtype=tf.float32)\n",
    "    \n",
    "    tf_y = tf.Variable([[7., 8.], \n",
    "                        [9., 10.],\n",
    "                        [11., 12.]], dtype=tf.float32)\n",
    "    \n",
    "    x = tf.constant(1., dtype=tf.float32)\n",
    "    update_tf_x = tf.assign(tf_x, tf_x + x)\n",
    "    saver = tf.train.Saver()\n",
    "\n",
    "with tf.Session(graph=g) as sess:\n",
    "    sess.run(tf.global_variables_initializer())\n",
    "    result = sess.run(update_tf_x)\n",
    "    \n",
    "    saver.save(sess, save_path='./my-model.ckpt')"
   ]
  },
  {
   "cell_type": "code",
   "execution_count": 14,
   "metadata": {
    "collapsed": false
   },
   "outputs": [
    {
     "name": "stdout",
     "output_type": "stream",
     "text": [
      "[[  8.   9.]\n",
      " [ 10.  11.]\n",
      " [ 12.  13.]]\n"
     ]
    }
   ],
   "source": [
    "g = tf.Graph()\n",
    "\n",
    "with g.as_default() as g:\n",
    "    \n",
    "    tf_y = tf.Variable([[7., 8.], \n",
    "                        [9., 10.],\n",
    "                        [11., 12.]], dtype=tf.float32)\n",
    "    \n",
    "    tf_x = tf.Variable([[1., 2.], \n",
    "                        [3., 4.],\n",
    "                        [5., 6.]], dtype=tf.float32)\n",
    "    \n",
    "    x = tf.constant(1., dtype=tf.float32)\n",
    "    update_tf_x = tf.assign(tf_x, tf_x + x)\n",
    "    saver = tf.train.Saver()\n",
    "    \n",
    "with tf.Session(graph=g) as sess:\n",
    "    saver.restore(sess, save_path='./my-model.ckpt')\n",
    "    result = sess.run(update_tf_x)\n",
    "    print(result)"
   ]
  },
  {
   "cell_type": "code",
   "execution_count": 15,
   "metadata": {
    "collapsed": true
   },
   "outputs": [],
   "source": [
    "import tensorflow as tf\n",
    "\n",
    "g = tf.Graph()\n",
    "\n",
    "with g.as_default() as g:\n",
    "    \n",
    "    tf_x = tf.Variable([[1., 2.], \n",
    "                        [3., 4.],\n",
    "                        [5., 6.]], \n",
    "                       name='tf_x_0',\n",
    "                       dtype=tf.float32)\n",
    "    \n",
    "    tf_y = tf.Variable([[7., 8.], \n",
    "                        [9., 10.,\n",
    "                         ]], \n",
    "                       name='tf_y_0',\n",
    "                       dtype=tf.float32)\n",
    "    \n",
    "    x = tf.constant(1., dtype=tf.float32)\n",
    "    update_tf_x = tf.assign(tf_x, tf_x + x)\n",
    "    saver = tf.train.Saver()\n",
    "\n",
    "with tf.Session(graph=g) as sess:\n",
    "    sess.run(tf.global_variables_initializer())\n",
    "    result = sess.run(update_tf_x)\n",
    "    \n",
    "    saver.save(sess, save_path='./my-model.ckpt')"
   ]
  },
  {
   "cell_type": "code",
   "execution_count": 16,
   "metadata": {
    "collapsed": false
   },
   "outputs": [
    {
     "name": "stdout",
     "output_type": "stream",
     "text": [
      "[[ 3.  4.]\n",
      " [ 5.  6.]\n",
      " [ 7.  8.]]\n"
     ]
    }
   ],
   "source": [
    "g = tf.Graph()\n",
    "\n",
    "with g.as_default() as g:\n",
    "    \n",
    "    tf_y = tf.Variable([[7., 8.], \n",
    "                        [9., 10.,\n",
    "                         ]], \n",
    "                       name='tf_y_0',\n",
    "                       dtype=tf.float32)\n",
    "    \n",
    "    tf_x = tf.Variable([[1., 2.], \n",
    "                        [3., 4.],\n",
    "                        [5., 6.]], \n",
    "                       name='tf_x_0',\n",
    "                       dtype=tf.float32)\n",
    "    \n",
    "    x = tf.constant(1., dtype=tf.float32)\n",
    "    update_tf_x = tf.assign(tf_x, tf_x + x)\n",
    "    saver = tf.train.Saver()\n",
    "    \n",
    "with tf.Session(graph=g) as sess:\n",
    "    saver.restore(sess, save_path='./my-model.ckpt')\n",
    "    result = sess.run(update_tf_x)\n",
    "    print(result)"
   ]
  },
  {
   "cell_type": "markdown",
   "metadata": {},
   "source": [
    "## CPU and GPU"
   ]
  },
  {
   "cell_type": "markdown",
   "metadata": {},
   "source": [
    "```python\n",
    "with tf.Session() as sess:\n",
    "    with tf.device(\"/gpu:1\"):\n",
    "\n",
    "\n",
    "\n",
    "\n",
    "from tensorflow.python.client import device_lib\n",
    "\n",
    "device_lib.list_local_devices()\n",
    "```"
   ]
  },
  {
   "cell_type": "markdown",
   "metadata": {},
   "source": [
    "## TensorBoard"
   ]
  },
  {
   "cell_type": "code",
   "execution_count": 17,
   "metadata": {
    "collapsed": false
   },
   "outputs": [],
   "source": [
    "# Simple graph visualization\n",
    "\n",
    "g = tf.Graph()\n",
    "\n",
    "with g.as_default() as g:\n",
    "    \n",
    "\n",
    "    tf_x = tf.Variable([[1., 2.], \n",
    "                        [3., 4.],\n",
    "                        [5., 6.]], \n",
    "                       name='tf_x_0',\n",
    "                       dtype=tf.float32)\n",
    "    \n",
    "    tf_y = tf.Variable([[7., 8.], \n",
    "                        [9., 10.],\n",
    "                        [11., 12.]], \n",
    "                       name='tf_y_0',\n",
    "                       dtype=tf.float32)\n",
    "\n",
    "    output = tf_x + tf_y\n",
    "    output = tf.matmul(tf.transpose(tf_x), output)"
   ]
  },
  {
   "cell_type": "code",
   "execution_count": 18,
   "metadata": {
    "collapsed": false
   },
   "outputs": [
    {
     "name": "stdout",
     "output_type": "stream",
     "text": [
      "[[ 124.  142.]\n",
      " [ 160.  184.]]\n"
     ]
    }
   ],
   "source": [
    "with tf.Session(graph=g) as sess:\n",
    "    sess.run(tf.global_variables_initializer())\n",
    "    \n",
    "    # create FileWrite object that writes the logs\n",
    "    file_writer = tf.summary.FileWriter(logdir='logs/1', graph=g)\n",
    "    result = sess.run(output)\n",
    "    print(result)"
   ]
  },
  {
   "cell_type": "markdown",
   "metadata": {},
   "source": [
    "    Desktop Sebastian$ tensorboard --logdir logs/1\n",
    "    Starting TensorBoard b'41' on port 6006\n",
    "    (You can navigate to http://xxx.xxx.x.xx:6006)"
   ]
  },
  {
   "cell_type": "markdown",
   "metadata": {},
   "source": [
    "![](images/tensorboard-1.png)"
   ]
  },
  {
   "cell_type": "code",
   "execution_count": 19,
   "metadata": {
    "collapsed": false
   },
   "outputs": [
    {
     "name": "stdout",
     "output_type": "stream",
     "text": [
      "[[ 124.  142.]\n",
      " [ 160.  184.]]\n"
     ]
    }
   ],
   "source": [
    "# Graph visualization with name scopes\n",
    "\n",
    "g = tf.Graph()\n",
    "\n",
    "with g.as_default() as g:\n",
    "    \n",
    "    tf_x = tf.Variable([[1., 2.], \n",
    "                        [3., 4.],\n",
    "                        [5., 6.]], \n",
    "                       name='tf_x_0',\n",
    "                       dtype=tf.float32)\n",
    "    \n",
    "    tf_y = tf.Variable([[7., 8.], \n",
    "                        [9., 10.],\n",
    "                        [11., 12.]], \n",
    "                       name='tf_y_0',\n",
    "                       dtype=tf.float32)\n",
    "    \n",
    "    # add custom name scope\n",
    "    with tf.name_scope('addition'):\n",
    "        output = tf_x + tf_y\n",
    "        \n",
    "    # add custom name scope\n",
    "    with tf.name_scope('matrix_multiplication'):\n",
    "        output = tf.matmul(tf.transpose(tf_x), output)\n",
    "    \n",
    "with tf.Session(graph=g) as sess:\n",
    "    sess.run(tf.global_variables_initializer())\n",
    "    file_writer = tf.summary.FileWriter(logdir='logs/2', graph=g)\n",
    "    result = sess.run(output)\n",
    "    print(result)"
   ]
  },
  {
   "cell_type": "markdown",
   "metadata": {},
   "source": [
    "    Desktop Sebastian$ tensorboard --logdir logs/2\n",
    "    Starting TensorBoard b'41' on port 6006\n",
    "    (You can navigate to http://xxx.xxx.x.xx:6006)"
   ]
  },
  {
   "cell_type": "markdown",
   "metadata": {},
   "source": [
    "![](images/tensorboard-2.png)\n",
    "![](images/tensorboard-3.png)"
   ]
  },
  {
   "cell_type": "code",
   "execution_count": 20,
   "metadata": {
    "collapsed": true
   },
   "outputs": [],
   "source": [
    "# Graph visualization and variable inspection\n",
    "\n",
    "g = tf.Graph()\n",
    "\n",
    "with g.as_default() as g:\n",
    "\n",
    "    some_value = tf.placeholder(dtype=tf.int32, \n",
    "                                shape=None, \n",
    "                                name='some_value')\n",
    "    \n",
    "    tf_x = tf.Variable([[1., 2.], \n",
    "                        [3., 4.],\n",
    "                        [5., 6.]], \n",
    "                       name='tf_x_0',\n",
    "                       dtype=tf.float32)\n",
    "    \n",
    "    tf_y = tf.Variable([[7., 8.], \n",
    "                        [9., 10.],\n",
    "                        [11., 12.]], \n",
    "                       name='tf_y_0',\n",
    "                       dtype=tf.float32)\n",
    "    \n",
    "    with tf.name_scope('addition'):    \n",
    "        output = tf_x + tf_y\n",
    "        \n",
    "    with tf.name_scope('matrix_multiplication'):\n",
    "        output = tf.matmul(tf.transpose(tf_x), output)\n",
    "    \n",
    "    with tf.name_scope('update_tensor_x'):  \n",
    "        tf_const = tf.constant(2., shape=None, name='some_const')\n",
    "        update_tf_x = tf.assign(tf_x, tf_x * tf_const)\n",
    "    \n",
    "    # create summaries\n",
    "    tf.summary.scalar(name='some_value', tensor=some_value)    \n",
    "    tf.summary.histogram(name='tf_x_values', values=tf_x)  \n",
    "\n",
    "    # merge all summaries into a single operation\n",
    "    merged_summary = tf.summary.merge_all()"
   ]
  },
  {
   "cell_type": "code",
   "execution_count": null,
   "metadata": {
    "collapsed": true
   },
   "outputs": [],
   "source": [
    "with tf.Session(graph=g) as sess:\n",
    "    \n",
    "    sess.run(tf.global_variables_initializer())\n",
    "    \n",
    "    # create FileWrite object that writes the logs\n",
    "    file_writer = tf.summary.FileWriter(logdir='logs/3', graph=g)\n",
    "    \n",
    "    for i in range(5):\n",
    "        # fetch the summary from the graph\n",
    "        result, summary = sess.run([update_tf_x, merged_summary],\n",
    "                                    feed_dict={some_value: i})\n",
    "        # write the summary to the log\n",
    "        file_writer.add_summary(summary=summary, global_step=i)\n",
    "        file_writer.flush()"
   ]
  },
  {
   "cell_type": "markdown",
   "metadata": {},
   "source": [
    "    Desktop Sebastian$ tensorboard --logdir logs/3\n",
    "    Starting TensorBoard b'41' on port 6006\n",
    "    (You can navigate to http://xxx.xxx.x.xx:6006)"
   ]
  },
  {
   "cell_type": "markdown",
   "metadata": {},
   "source": [
    "![](images/tensorboard-4.png)"
   ]
  },
  {
   "cell_type": "markdown",
   "metadata": {},
   "source": [
    "![](images/tensorboard-5.png)"
   ]
  },
  {
   "cell_type": "markdown",
   "metadata": {},
   "source": [
    "![](images/tensorboard-6.png)"
   ]
  }
 ],
 "metadata": {
  "anaconda-cloud": {},
  "kernelspec": {
   "display_name": "Python [default]",
   "language": "python",
   "name": "python3"
  },
  "language_info": {
   "codemirror_mode": {
    "name": "ipython",
    "version": 3
   },
   "file_extension": ".py",
   "mimetype": "text/x-python",
   "name": "python",
   "nbconvert_exporter": "python",
   "pygments_lexer": "ipython3",
   "version": "3.5.2"
  }
 },
 "nbformat": 4,
 "nbformat_minor": 1
}
